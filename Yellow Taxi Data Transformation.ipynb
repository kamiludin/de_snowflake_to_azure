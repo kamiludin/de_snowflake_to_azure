{
 "cells": [
  {
   "cell_type": "code",
   "execution_count": null,
   "metadata": {
    "application/vnd.databricks.v1+cell": {
     "cellMetadata": {
      "byteLimit": 2048000,
      "rowLimit": 10000
     },
     "inputWidgets": {},
     "nuid": "c62aba78-46ec-41ea-b642-1c9705b2d270",
     "showTitle": false,
     "title": ""
    }
   },
   "outputs": [],
   "source": [
    "# Importing necessary functions and types for Spark DataFrame operations\n",
    "\n",
    "from pyspark.sql.functions import col\n",
    "from pyspark.sql.types import IntegerType, DoubleType, BooleanType, TimestampType"
   ]
  },
  {
   "cell_type": "code",
   "execution_count": null,
   "metadata": {
    "application/vnd.databricks.v1+cell": {
     "cellMetadata": {
      "byteLimit": 2048000,
      "rowLimit": 10000
     },
     "inputWidgets": {},
     "nuid": "c621754d-2380-47b5-9dc7-f6a19147fe25",
     "showTitle": false,
     "title": ""
    }
   },
   "outputs": [],
   "source": [
    "# Mounting Azure Blob Storage to a Databricks filesystem\n",
    "\n",
    "configs = {\"fs.azure.account.auth.type\": \"OAuth\",\n",
    "\"fs.azure.account.oauth.provider.type\": \"org.apache.hadoop.fs.azurebfs.oauth2.ClientCredsTokenProvider\",\n",
    "\"fs.azure.account.oauth2.client.id\": \"......\", # your client_id\n",
    "\"fs.azure.account.oauth2.client.secret\": '......', # your secretkey\n",
    "\"fs.azure.account.oauth2.client.endpoint\": \"https://login.microsoftonline.com/....../oauth2/token\"} # your tenant_id\n",
    "\n",
    "\n",
    "dbutils.fs.mount(\n",
    "source = \"abfss://......@.......dfs.core.windows.net\", # container@storageacc\n",
    "mount_point = \"/mnt/yellowtaxi\",\n",
    "extra_configs = configs)"
   ]
  },
  {
   "cell_type": "code",
   "execution_count": null,
   "metadata": {
    "application/vnd.databricks.v1+cell": {
     "cellMetadata": {
      "byteLimit": 2048000,
      "rowLimit": 10000
     },
     "inputWidgets": {},
     "nuid": "21beef50-5646-45fa-80c1-49bcdd2497e6",
     "showTitle": false,
     "title": ""
    }
   },
   "outputs": [
    {
     "data": {
      "text/html": [
       "<style scoped>\n",
       "  .table-result-container {\n",
       "    max-height: 300px;\n",
       "    overflow: auto;\n",
       "  }\n",
       "  table, th, td {\n",
       "    border: 1px solid black;\n",
       "    border-collapse: collapse;\n",
       "  }\n",
       "  th, td {\n",
       "    padding: 5px;\n",
       "  }\n",
       "  th {\n",
       "    text-align: left;\n",
       "  }\n",
       "</style><div class='table-result-container'><table class='table-result'><thead style='background-color: white'><tr><th>path</th><th>name</th><th>size</th><th>modificationTime</th></tr></thead><tbody><tr><td>dbfs:/mnt/yellowtaxi/raw-data/</td><td>raw-data/</td><td>0</td><td>1707393148000</td></tr><tr><td>dbfs:/mnt/yellowtaxi/transformed-data/</td><td>transformed-data/</td><td>0</td><td>1707393204000</td></tr></tbody></table></div>"
      ]
     },
     "metadata": {
      "application/vnd.databricks.v1+output": {
       "addedWidgets": {},
       "aggData": [],
       "aggError": "",
       "aggOverflow": false,
       "aggSchema": [],
       "aggSeriesLimitReached": false,
       "aggType": "",
       "arguments": {},
       "columnCustomDisplayInfos": {},
       "data": [
        [
         "dbfs:/mnt/yellowtaxi/raw-data/",
         "raw-data/",
         0,
         1707393148000
        ],
        [
         "dbfs:/mnt/yellowtaxi/transformed-data/",
         "transformed-data/",
         0,
         1707393204000
        ]
       ],
       "datasetInfos": [],
       "dbfsResultPath": null,
       "isJsonSchema": true,
       "metadata": {
        "isDbfsCommandResult": false
       },
       "overflow": false,
       "plotOptions": {
        "customPlotOptions": {},
        "displayType": "table",
        "pivotAggregation": null,
        "pivotColumns": null,
        "xColumns": null,
        "yColumns": null
       },
       "removedWidgets": [],
       "schema": [
        {
         "metadata": "{}",
         "name": "path",
         "type": "\"string\""
        },
        {
         "metadata": "{}",
         "name": "name",
         "type": "\"string\""
        },
        {
         "metadata": "{}",
         "name": "size",
         "type": "\"long\""
        },
        {
         "metadata": "{}",
         "name": "modificationTime",
         "type": "\"long\""
        }
       ],
       "type": "table"
      }
     },
     "output_type": "display_data"
    }
   ],
   "source": [
    "%fs\n",
    "ls \"/mnt/yellowtaxi\""
   ]
  },
  {
   "cell_type": "code",
   "execution_count": null,
   "metadata": {
    "application/vnd.databricks.v1+cell": {
     "cellMetadata": {
      "byteLimit": 2048000,
      "rowLimit": 10000
     },
     "inputWidgets": {},
     "nuid": "3a40bef0-e813-4c86-bbba-a965023e0a75",
     "showTitle": false,
     "title": ""
    }
   },
   "outputs": [],
   "source": [
    "# Read data from CSV files in the \"/mnt/yellowtaxi/raw-data/\" directory using Spark DataFrame\n",
    "\n",
    "df = spark.read.format(\"csv\").option(\"header\",\"true\").option(\"inferSchema\",\"true\").load(\"/mnt/yellowtaxi/raw-data/*.csv\")"
   ]
  },
  {
   "cell_type": "code",
   "execution_count": null,
   "metadata": {
    "application/vnd.databricks.v1+cell": {
     "cellMetadata": {
      "byteLimit": 2048000,
      "rowLimit": 10000
     },
     "inputWidgets": {},
     "nuid": "fc38c4e1-4ed9-4ff0-8c2b-347f172fcfdf",
     "showTitle": false,
     "title": ""
    }
   },
   "outputs": [
    {
     "data": {
      "text/html": [
       "<div>\n",
       "<style scoped>\n",
       "    .dataframe tbody tr th:only-of-type {\n",
       "        vertical-align: middle;\n",
       "    }\n",
       "\n",
       "    .dataframe tbody tr th {\n",
       "        vertical-align: top;\n",
       "    }\n",
       "\n",
       "    .dataframe thead th {\n",
       "        text-align: right;\n",
       "    }\n",
       "</style>\n",
       "<table border=\"1\" class=\"dataframe\">\n",
       "  <thead>\n",
       "    <tr style=\"text-align: right;\">\n",
       "      <th></th>\n",
       "      <th>VENDORID</th>\n",
       "      <th>TPEP_PICKUP_DATETIME</th>\n",
       "      <th>TPEP_DROPOFF_DATETIME</th>\n",
       "      <th>PASSENGER_COUNT</th>\n",
       "      <th>TRIP_DISTANCE</th>\n",
       "      <th>RATECODEID</th>\n",
       "      <th>STORE_AND_FWD_FLAG</th>\n",
       "      <th>PULOCATIONID</th>\n",
       "      <th>DOLOCATIONID</th>\n",
       "      <th>PAYMENT_TYPE</th>\n",
       "      <th>FARE_AMOUNT</th>\n",
       "      <th>EXTRA</th>\n",
       "      <th>MTA_TAX</th>\n",
       "      <th>TIP_AMOUNT</th>\n",
       "      <th>TOLLS_AMOUNT</th>\n",
       "      <th>IMPROVEMENT_SURCHARGE</th>\n",
       "      <th>TOTAL_AMOUNT</th>\n",
       "      <th>CONGESTION_SURCHARGE</th>\n",
       "      <th>AIRPORT_FEE</th>\n",
       "    </tr>\n",
       "  </thead>\n",
       "  <tbody>\n",
       "    <tr>\n",
       "      <th>0</th>\n",
       "      <td>2</td>\n",
       "      <td>2023-01-28 18:57:33</td>\n",
       "      <td>2023-01-28 19:11:57</td>\n",
       "      <td>2.0</td>\n",
       "      <td>2.11</td>\n",
       "      <td>1.0</td>\n",
       "      <td>N</td>\n",
       "      <td>140</td>\n",
       "      <td>170</td>\n",
       "      <td>1</td>\n",
       "      <td>16</td>\n",
       "      <td>0</td>\n",
       "      <td>1</td>\n",
       "      <td>1</td>\n",
       "      <td>0</td>\n",
       "      <td>1</td>\n",
       "      <td>21</td>\n",
       "      <td>3.0</td>\n",
       "      <td>0.0</td>\n",
       "    </tr>\n",
       "    <tr>\n",
       "      <th>1</th>\n",
       "      <td>2</td>\n",
       "      <td>2023-01-28 18:15:14</td>\n",
       "      <td>2023-01-28 18:19:37</td>\n",
       "      <td>1.0</td>\n",
       "      <td>0.94</td>\n",
       "      <td>1.0</td>\n",
       "      <td>N</td>\n",
       "      <td>137</td>\n",
       "      <td>107</td>\n",
       "      <td>1</td>\n",
       "      <td>7</td>\n",
       "      <td>0</td>\n",
       "      <td>1</td>\n",
       "      <td>2</td>\n",
       "      <td>0</td>\n",
       "      <td>1</td>\n",
       "      <td>13</td>\n",
       "      <td>3.0</td>\n",
       "      <td>0.0</td>\n",
       "    </tr>\n",
       "    <tr>\n",
       "      <th>2</th>\n",
       "      <td>2</td>\n",
       "      <td>2023-01-28 18:28:00</td>\n",
       "      <td>2023-01-28 18:34:59</td>\n",
       "      <td>2.0</td>\n",
       "      <td>1.12</td>\n",
       "      <td>1.0</td>\n",
       "      <td>N</td>\n",
       "      <td>79</td>\n",
       "      <td>170</td>\n",
       "      <td>1</td>\n",
       "      <td>9</td>\n",
       "      <td>0</td>\n",
       "      <td>1</td>\n",
       "      <td>0</td>\n",
       "      <td>0</td>\n",
       "      <td>1</td>\n",
       "      <td>13</td>\n",
       "      <td>3.0</td>\n",
       "      <td>0.0</td>\n",
       "    </tr>\n",
       "    <tr>\n",
       "      <th>3</th>\n",
       "      <td>2</td>\n",
       "      <td>2023-01-28 18:42:22</td>\n",
       "      <td>2023-01-28 19:08:50</td>\n",
       "      <td>1.0</td>\n",
       "      <td>5.11</td>\n",
       "      <td>1.0</td>\n",
       "      <td>N</td>\n",
       "      <td>162</td>\n",
       "      <td>166</td>\n",
       "      <td>1</td>\n",
       "      <td>29</td>\n",
       "      <td>0</td>\n",
       "      <td>1</td>\n",
       "      <td>7</td>\n",
       "      <td>0</td>\n",
       "      <td>1</td>\n",
       "      <td>39</td>\n",
       "      <td>3.0</td>\n",
       "      <td>0.0</td>\n",
       "    </tr>\n",
       "    <tr>\n",
       "      <th>4</th>\n",
       "      <td>2</td>\n",
       "      <td>2023-01-28 18:08:43</td>\n",
       "      <td>2023-01-28 18:18:21</td>\n",
       "      <td>1.0</td>\n",
       "      <td>1.34</td>\n",
       "      <td>1.0</td>\n",
       "      <td>N</td>\n",
       "      <td>237</td>\n",
       "      <td>140</td>\n",
       "      <td>2</td>\n",
       "      <td>11</td>\n",
       "      <td>0</td>\n",
       "      <td>1</td>\n",
       "      <td>0</td>\n",
       "      <td>0</td>\n",
       "      <td>1</td>\n",
       "      <td>15</td>\n",
       "      <td>3.0</td>\n",
       "      <td>0.0</td>\n",
       "    </tr>\n",
       "  </tbody>\n",
       "</table>\n",
       "</div>"
      ],
      "text/plain": [
       "   VENDORID TPEP_PICKUP_DATETIME  ... CONGESTION_SURCHARGE  AIRPORT_FEE\n",
       "0         2  2023-01-28 18:57:33  ...                  3.0          0.0\n",
       "1         2  2023-01-28 18:15:14  ...                  3.0          0.0\n",
       "2         2  2023-01-28 18:28:00  ...                  3.0          0.0\n",
       "3         2  2023-01-28 18:42:22  ...                  3.0          0.0\n",
       "4         2  2023-01-28 18:08:43  ...                  3.0          0.0\n",
       "\n",
       "[5 rows x 19 columns]"
      ]
     },
     "execution_count": 37,
     "metadata": {},
     "output_type": "execute_result"
    }
   ],
   "source": [
    "# Convert Spark DataFrame to Pandas DataFrame\n",
    "import pandas as pd\n",
    "\n",
    "df2 = df.toPandas()\n",
    "\n",
    "# Display the first few rows of the Pandas DataFrame\n",
    "df2.head()"
   ]
  },
  {
   "cell_type": "code",
   "execution_count": null,
   "metadata": {
    "application/vnd.databricks.v1+cell": {
     "cellMetadata": {
      "byteLimit": 2048000,
      "rowLimit": 10000
     },
     "inputWidgets": {},
     "nuid": "da7db346-c934-43ce-817f-c8658bbb06a7",
     "showTitle": false,
     "title": ""
    }
   },
   "outputs": [],
   "source": [
    "# Remove duplicate rows from the DataFrame and reset the index\n",
    "df2 = df2.drop_duplicates().reset_index(drop=True)\n",
    "\n",
    "# Assign a new column 'trip_id' with the index values\n",
    "df2['trip_id'] = df2.index"
   ]
  },
  {
   "cell_type": "code",
   "execution_count": null,
   "metadata": {
    "application/vnd.databricks.v1+cell": {
     "cellMetadata": {
      "byteLimit": 2048000,
      "rowLimit": 10000
     },
     "inputWidgets": {},
     "nuid": "6a381269-8395-4b77-910f-191d122d33f7",
     "showTitle": false,
     "title": ""
    }
   },
   "outputs": [
    {
     "data": {
      "text/html": [
       "<div>\n",
       "<style scoped>\n",
       "    .dataframe tbody tr th:only-of-type {\n",
       "        vertical-align: middle;\n",
       "    }\n",
       "\n",
       "    .dataframe tbody tr th {\n",
       "        vertical-align: top;\n",
       "    }\n",
       "\n",
       "    .dataframe thead th {\n",
       "        text-align: right;\n",
       "    }\n",
       "</style>\n",
       "<table border=\"1\" class=\"dataframe\">\n",
       "  <thead>\n",
       "    <tr style=\"text-align: right;\">\n",
       "      <th></th>\n",
       "      <th>VENDORID</th>\n",
       "      <th>TPEP_PICKUP_DATETIME</th>\n",
       "      <th>TPEP_DROPOFF_DATETIME</th>\n",
       "      <th>PASSENGER_COUNT</th>\n",
       "      <th>TRIP_DISTANCE</th>\n",
       "      <th>RATECODEID</th>\n",
       "      <th>STORE_AND_FWD_FLAG</th>\n",
       "      <th>PULOCATIONID</th>\n",
       "      <th>DOLOCATIONID</th>\n",
       "      <th>PAYMENT_TYPE</th>\n",
       "      <th>FARE_AMOUNT</th>\n",
       "      <th>EXTRA</th>\n",
       "      <th>MTA_TAX</th>\n",
       "      <th>TIP_AMOUNT</th>\n",
       "      <th>TOLLS_AMOUNT</th>\n",
       "      <th>IMPROVEMENT_SURCHARGE</th>\n",
       "      <th>TOTAL_AMOUNT</th>\n",
       "      <th>CONGESTION_SURCHARGE</th>\n",
       "      <th>AIRPORT_FEE</th>\n",
       "      <th>trip_id</th>\n",
       "    </tr>\n",
       "  </thead>\n",
       "  <tbody>\n",
       "    <tr>\n",
       "      <th>0</th>\n",
       "      <td>2</td>\n",
       "      <td>2023-01-28 18:57:33</td>\n",
       "      <td>2023-01-28 19:11:57</td>\n",
       "      <td>2.0</td>\n",
       "      <td>2.11</td>\n",
       "      <td>1.0</td>\n",
       "      <td>N</td>\n",
       "      <td>140</td>\n",
       "      <td>170</td>\n",
       "      <td>1</td>\n",
       "      <td>16</td>\n",
       "      <td>0</td>\n",
       "      <td>1</td>\n",
       "      <td>1</td>\n",
       "      <td>0</td>\n",
       "      <td>1</td>\n",
       "      <td>21</td>\n",
       "      <td>3.0</td>\n",
       "      <td>0.0</td>\n",
       "      <td>0</td>\n",
       "    </tr>\n",
       "    <tr>\n",
       "      <th>1</th>\n",
       "      <td>2</td>\n",
       "      <td>2023-01-28 18:15:14</td>\n",
       "      <td>2023-01-28 18:19:37</td>\n",
       "      <td>1.0</td>\n",
       "      <td>0.94</td>\n",
       "      <td>1.0</td>\n",
       "      <td>N</td>\n",
       "      <td>137</td>\n",
       "      <td>107</td>\n",
       "      <td>1</td>\n",
       "      <td>7</td>\n",
       "      <td>0</td>\n",
       "      <td>1</td>\n",
       "      <td>2</td>\n",
       "      <td>0</td>\n",
       "      <td>1</td>\n",
       "      <td>13</td>\n",
       "      <td>3.0</td>\n",
       "      <td>0.0</td>\n",
       "      <td>1</td>\n",
       "    </tr>\n",
       "    <tr>\n",
       "      <th>2</th>\n",
       "      <td>2</td>\n",
       "      <td>2023-01-28 18:28:00</td>\n",
       "      <td>2023-01-28 18:34:59</td>\n",
       "      <td>2.0</td>\n",
       "      <td>1.12</td>\n",
       "      <td>1.0</td>\n",
       "      <td>N</td>\n",
       "      <td>79</td>\n",
       "      <td>170</td>\n",
       "      <td>1</td>\n",
       "      <td>9</td>\n",
       "      <td>0</td>\n",
       "      <td>1</td>\n",
       "      <td>0</td>\n",
       "      <td>0</td>\n",
       "      <td>1</td>\n",
       "      <td>13</td>\n",
       "      <td>3.0</td>\n",
       "      <td>0.0</td>\n",
       "      <td>2</td>\n",
       "    </tr>\n",
       "    <tr>\n",
       "      <th>3</th>\n",
       "      <td>2</td>\n",
       "      <td>2023-01-28 18:42:22</td>\n",
       "      <td>2023-01-28 19:08:50</td>\n",
       "      <td>1.0</td>\n",
       "      <td>5.11</td>\n",
       "      <td>1.0</td>\n",
       "      <td>N</td>\n",
       "      <td>162</td>\n",
       "      <td>166</td>\n",
       "      <td>1</td>\n",
       "      <td>29</td>\n",
       "      <td>0</td>\n",
       "      <td>1</td>\n",
       "      <td>7</td>\n",
       "      <td>0</td>\n",
       "      <td>1</td>\n",
       "      <td>39</td>\n",
       "      <td>3.0</td>\n",
       "      <td>0.0</td>\n",
       "      <td>3</td>\n",
       "    </tr>\n",
       "    <tr>\n",
       "      <th>4</th>\n",
       "      <td>2</td>\n",
       "      <td>2023-01-28 18:08:43</td>\n",
       "      <td>2023-01-28 18:18:21</td>\n",
       "      <td>1.0</td>\n",
       "      <td>1.34</td>\n",
       "      <td>1.0</td>\n",
       "      <td>N</td>\n",
       "      <td>237</td>\n",
       "      <td>140</td>\n",
       "      <td>2</td>\n",
       "      <td>11</td>\n",
       "      <td>0</td>\n",
       "      <td>1</td>\n",
       "      <td>0</td>\n",
       "      <td>0</td>\n",
       "      <td>1</td>\n",
       "      <td>15</td>\n",
       "      <td>3.0</td>\n",
       "      <td>0.0</td>\n",
       "      <td>4</td>\n",
       "    </tr>\n",
       "  </tbody>\n",
       "</table>\n",
       "</div>"
      ],
      "text/plain": [
       "   VENDORID TPEP_PICKUP_DATETIME  ... AIRPORT_FEE  trip_id\n",
       "0         2  2023-01-28 18:57:33  ...         0.0        0\n",
       "1         2  2023-01-28 18:15:14  ...         0.0        1\n",
       "2         2  2023-01-28 18:28:00  ...         0.0        2\n",
       "3         2  2023-01-28 18:42:22  ...         0.0        3\n",
       "4         2  2023-01-28 18:08:43  ...         0.0        4\n",
       "\n",
       "[5 rows x 20 columns]"
      ]
     },
     "execution_count": 39,
     "metadata": {},
     "output_type": "execute_result"
    }
   ],
   "source": [
    "df2.head()"
   ]
  },
  {
   "cell_type": "code",
   "execution_count": null,
   "metadata": {
    "application/vnd.databricks.v1+cell": {
     "cellMetadata": {
      "byteLimit": 2048000,
      "rowLimit": 10000
     },
     "inputWidgets": {},
     "nuid": "32034803-31bc-402b-bffa-16f258292af2",
     "showTitle": false,
     "title": ""
    }
   },
   "outputs": [
    {
     "name": "stdout",
     "output_type": "stream",
     "text": [
      "VENDORID                          int32\n",
      "TPEP_PICKUP_DATETIME     datetime64[ns]\n",
      "TPEP_DROPOFF_DATETIME    datetime64[ns]\n",
      "PASSENGER_COUNT                 float64\n",
      "TRIP_DISTANCE                   float64\n",
      "RATECODEID                      float64\n",
      "STORE_AND_FWD_FLAG               object\n",
      "PULOCATIONID                      int32\n",
      "DOLOCATIONID                      int32\n",
      "PAYMENT_TYPE                      int32\n",
      "FARE_AMOUNT                       int32\n",
      "EXTRA                             int32\n",
      "MTA_TAX                           int32\n",
      "TIP_AMOUNT                        int32\n",
      "TOLLS_AMOUNT                      int32\n",
      "IMPROVEMENT_SURCHARGE             int32\n",
      "TOTAL_AMOUNT                      int32\n",
      "CONGESTION_SURCHARGE            float64\n",
      "AIRPORT_FEE                     float64\n",
      "trip_id                           int64\n",
      "dtype: object\n"
     ]
    }
   ],
   "source": [
    "print(df2.dtypes)"
   ]
  },
  {
   "cell_type": "code",
   "execution_count": null,
   "metadata": {
    "application/vnd.databricks.v1+cell": {
     "cellMetadata": {
      "byteLimit": 2048000,
      "rowLimit": 10000
     },
     "inputWidgets": {},
     "nuid": "cb7e07b3-83ee-4ae8-9edd-aaf52420cb93",
     "showTitle": false,
     "title": ""
    }
   },
   "outputs": [],
   "source": [
    "# Change data types\n",
    "df2['VENDORID'] = df2['VENDORID'].astype('object')\n",
    "df2['PASSENGER_COUNT'] = df2['PASSENGER_COUNT'].astype('Int64')\n",
    "df2['RATECODEID'] = df2['RATECODEID'].astype('object')\n",
    "df2['PULOCATIONID'] = df2['PULOCATIONID'].astype('Int64')\n",
    "df2['DOLOCATIONID'] = df2['DOLOCATIONID'].astype('Int64')\n",
    "df2['PAYMENT_TYPE'] = df2['PAYMENT_TYPE'].astype('object')\n",
    "df2['FARE_AMOUNT'] = df2['FARE_AMOUNT'].astype('float64')\n",
    "df2['EXTRA'] = df2['EXTRA'].astype('float64')\n",
    "df2['MTA_TAX'] = df2['MTA_TAX'].astype('float64')\n",
    "df2['TIP_AMOUNT'] = df2['TIP_AMOUNT'].astype('float64')\n",
    "df2['TOLLS_AMOUNT'] = df2['TOLLS_AMOUNT'].astype('float64')\n",
    "df2['IMPROVEMENT_SURCHARGE'] = df2['IMPROVEMENT_SURCHARGE'].astype('float64')\n",
    "df2['TOTAL_AMOUNT'] = df2['TOTAL_AMOUNT'].astype('float64')"
   ]
  },
  {
   "cell_type": "code",
   "execution_count": null,
   "metadata": {
    "application/vnd.databricks.v1+cell": {
     "cellMetadata": {
      "byteLimit": 2048000,
      "rowLimit": 10000
     },
     "inputWidgets": {},
     "nuid": "89e1784a-2d63-4edd-800c-24b9da609fae",
     "showTitle": false,
     "title": ""
    }
   },
   "outputs": [
    {
     "name": "stdout",
     "output_type": "stream",
     "text": [
      "VENDORID                         object\n",
      "TPEP_PICKUP_DATETIME     datetime64[ns]\n",
      "TPEP_DROPOFF_DATETIME    datetime64[ns]\n",
      "PASSENGER_COUNT                   Int64\n",
      "TRIP_DISTANCE                   float64\n",
      "RATECODEID                       object\n",
      "STORE_AND_FWD_FLAG               object\n",
      "PULOCATIONID                      Int64\n",
      "DOLOCATIONID                      Int64\n",
      "PAYMENT_TYPE                     object\n",
      "FARE_AMOUNT                     float64\n",
      "EXTRA                           float64\n",
      "MTA_TAX                         float64\n",
      "TIP_AMOUNT                      float64\n",
      "TOLLS_AMOUNT                    float64\n",
      "IMPROVEMENT_SURCHARGE           float64\n",
      "TOTAL_AMOUNT                    float64\n",
      "CONGESTION_SURCHARGE            float64\n",
      "AIRPORT_FEE                     float64\n",
      "trip_id                           int64\n",
      "dtype: object\n"
     ]
    }
   ],
   "source": [
    "print(df2.dtypes)"
   ]
  },
  {
   "cell_type": "code",
   "execution_count": null,
   "metadata": {
    "application/vnd.databricks.v1+cell": {
     "cellMetadata": {
      "byteLimit": 2048000,
      "rowLimit": 10000
     },
     "inputWidgets": {},
     "nuid": "29fa105a-cec8-4bc1-bbef-bdff8a4ef018",
     "showTitle": false,
     "title": ""
    }
   },
   "outputs": [],
   "source": [
    "# Mapping Several Columns based on Dictionary\n",
    "\n",
    "vendor_id = {\n",
    "    1:\"Creative Mobile Technologies, LLC\",\n",
    "    2:\"VeriFone Inc.\"\n",
    "}\n",
    "\n",
    "rate_code_type = {\n",
    "    1:\"Standard rate\",\n",
    "    2:\"JFK\",\n",
    "    3:\"Newark\",\n",
    "    4:\"Nassau or Westchester\",\n",
    "    5:\"Negotiated fare\",\n",
    "    6:\"Group ride\"\n",
    "}\n",
    "\n",
    "store_fwd_flag_type = {\n",
    "    'Y': 'store and forward trip',\n",
    "    'N': 'not a store and forward trip'\n",
    "}\n",
    "\n",
    "payment_type_name = {\n",
    "    1:\"Credit card\",\n",
    "    2:\"Cash\",\n",
    "    3:\"No charge\",\n",
    "    4:\"Dispute\",\n",
    "    5:\"Unknown\",\n",
    "    6:\"Voided trip\"\n",
    "}\n",
    "\n",
    "\n",
    "df2['VENDORID'] = df2['VENDORID'].map(vendor_id)\n",
    "df2['RATECODEID'] = df2['RATECODEID'].map(rate_code_type)\n",
    "df2['STORE_AND_FWD_FLAG'] = df2['STORE_AND_FWD_FLAG'].map(store_fwd_flag_type)\n",
    "df2['PAYMENT_TYPE'] = df2['PAYMENT_TYPE'].map(payment_type_name)"
   ]
  },
  {
   "cell_type": "code",
   "execution_count": null,
   "metadata": {
    "application/vnd.databricks.v1+cell": {
     "cellMetadata": {
      "byteLimit": 2048000,
      "rowLimit": 10000
     },
     "inputWidgets": {},
     "nuid": "01ddf670-967a-4030-8080-c0b0dd0ce559",
     "showTitle": false,
     "title": ""
    }
   },
   "outputs": [
    {
     "data": {
      "text/html": [
       "<div>\n",
       "<style scoped>\n",
       "    .dataframe tbody tr th:only-of-type {\n",
       "        vertical-align: middle;\n",
       "    }\n",
       "\n",
       "    .dataframe tbody tr th {\n",
       "        vertical-align: top;\n",
       "    }\n",
       "\n",
       "    .dataframe thead th {\n",
       "        text-align: right;\n",
       "    }\n",
       "</style>\n",
       "<table border=\"1\" class=\"dataframe\">\n",
       "  <thead>\n",
       "    <tr style=\"text-align: right;\">\n",
       "      <th></th>\n",
       "      <th>VENDORID</th>\n",
       "      <th>TPEP_PICKUP_DATETIME</th>\n",
       "      <th>TPEP_DROPOFF_DATETIME</th>\n",
       "      <th>PASSENGER_COUNT</th>\n",
       "      <th>TRIP_DISTANCE</th>\n",
       "      <th>RATECODEID</th>\n",
       "      <th>STORE_AND_FWD_FLAG</th>\n",
       "      <th>PULOCATIONID</th>\n",
       "      <th>DOLOCATIONID</th>\n",
       "      <th>PAYMENT_TYPE</th>\n",
       "      <th>FARE_AMOUNT</th>\n",
       "      <th>EXTRA</th>\n",
       "      <th>MTA_TAX</th>\n",
       "      <th>TIP_AMOUNT</th>\n",
       "      <th>TOLLS_AMOUNT</th>\n",
       "      <th>IMPROVEMENT_SURCHARGE</th>\n",
       "      <th>TOTAL_AMOUNT</th>\n",
       "      <th>CONGESTION_SURCHARGE</th>\n",
       "      <th>AIRPORT_FEE</th>\n",
       "      <th>trip_id</th>\n",
       "    </tr>\n",
       "  </thead>\n",
       "  <tbody>\n",
       "    <tr>\n",
       "      <th>0</th>\n",
       "      <td>VeriFone Inc.</td>\n",
       "      <td>2023-01-28 18:57:33</td>\n",
       "      <td>2023-01-28 19:11:57</td>\n",
       "      <td>2</td>\n",
       "      <td>2.11</td>\n",
       "      <td>Standard rate</td>\n",
       "      <td>not a store and forward trip</td>\n",
       "      <td>140</td>\n",
       "      <td>170</td>\n",
       "      <td>Credit card</td>\n",
       "      <td>16.0</td>\n",
       "      <td>0.0</td>\n",
       "      <td>1.0</td>\n",
       "      <td>1.0</td>\n",
       "      <td>0.0</td>\n",
       "      <td>1.0</td>\n",
       "      <td>21.0</td>\n",
       "      <td>3.0</td>\n",
       "      <td>0.0</td>\n",
       "      <td>0</td>\n",
       "    </tr>\n",
       "    <tr>\n",
       "      <th>1</th>\n",
       "      <td>VeriFone Inc.</td>\n",
       "      <td>2023-01-28 18:15:14</td>\n",
       "      <td>2023-01-28 18:19:37</td>\n",
       "      <td>1</td>\n",
       "      <td>0.94</td>\n",
       "      <td>Standard rate</td>\n",
       "      <td>not a store and forward trip</td>\n",
       "      <td>137</td>\n",
       "      <td>107</td>\n",
       "      <td>Credit card</td>\n",
       "      <td>7.0</td>\n",
       "      <td>0.0</td>\n",
       "      <td>1.0</td>\n",
       "      <td>2.0</td>\n",
       "      <td>0.0</td>\n",
       "      <td>1.0</td>\n",
       "      <td>13.0</td>\n",
       "      <td>3.0</td>\n",
       "      <td>0.0</td>\n",
       "      <td>1</td>\n",
       "    </tr>\n",
       "    <tr>\n",
       "      <th>2</th>\n",
       "      <td>VeriFone Inc.</td>\n",
       "      <td>2023-01-28 18:28:00</td>\n",
       "      <td>2023-01-28 18:34:59</td>\n",
       "      <td>2</td>\n",
       "      <td>1.12</td>\n",
       "      <td>Standard rate</td>\n",
       "      <td>not a store and forward trip</td>\n",
       "      <td>79</td>\n",
       "      <td>170</td>\n",
       "      <td>Credit card</td>\n",
       "      <td>9.0</td>\n",
       "      <td>0.0</td>\n",
       "      <td>1.0</td>\n",
       "      <td>0.0</td>\n",
       "      <td>0.0</td>\n",
       "      <td>1.0</td>\n",
       "      <td>13.0</td>\n",
       "      <td>3.0</td>\n",
       "      <td>0.0</td>\n",
       "      <td>2</td>\n",
       "    </tr>\n",
       "    <tr>\n",
       "      <th>3</th>\n",
       "      <td>VeriFone Inc.</td>\n",
       "      <td>2023-01-28 18:42:22</td>\n",
       "      <td>2023-01-28 19:08:50</td>\n",
       "      <td>1</td>\n",
       "      <td>5.11</td>\n",
       "      <td>Standard rate</td>\n",
       "      <td>not a store and forward trip</td>\n",
       "      <td>162</td>\n",
       "      <td>166</td>\n",
       "      <td>Credit card</td>\n",
       "      <td>29.0</td>\n",
       "      <td>0.0</td>\n",
       "      <td>1.0</td>\n",
       "      <td>7.0</td>\n",
       "      <td>0.0</td>\n",
       "      <td>1.0</td>\n",
       "      <td>39.0</td>\n",
       "      <td>3.0</td>\n",
       "      <td>0.0</td>\n",
       "      <td>3</td>\n",
       "    </tr>\n",
       "    <tr>\n",
       "      <th>4</th>\n",
       "      <td>VeriFone Inc.</td>\n",
       "      <td>2023-01-28 18:08:43</td>\n",
       "      <td>2023-01-28 18:18:21</td>\n",
       "      <td>1</td>\n",
       "      <td>1.34</td>\n",
       "      <td>Standard rate</td>\n",
       "      <td>not a store and forward trip</td>\n",
       "      <td>237</td>\n",
       "      <td>140</td>\n",
       "      <td>Cash</td>\n",
       "      <td>11.0</td>\n",
       "      <td>0.0</td>\n",
       "      <td>1.0</td>\n",
       "      <td>0.0</td>\n",
       "      <td>0.0</td>\n",
       "      <td>1.0</td>\n",
       "      <td>15.0</td>\n",
       "      <td>3.0</td>\n",
       "      <td>0.0</td>\n",
       "      <td>4</td>\n",
       "    </tr>\n",
       "  </tbody>\n",
       "</table>\n",
       "</div>"
      ],
      "text/plain": [
       "        VENDORID TPEP_PICKUP_DATETIME  ... AIRPORT_FEE  trip_id\n",
       "0  VeriFone Inc.  2023-01-28 18:57:33  ...         0.0        0\n",
       "1  VeriFone Inc.  2023-01-28 18:15:14  ...         0.0        1\n",
       "2  VeriFone Inc.  2023-01-28 18:28:00  ...         0.0        2\n",
       "3  VeriFone Inc.  2023-01-28 18:42:22  ...         0.0        3\n",
       "4  VeriFone Inc.  2023-01-28 18:08:43  ...         0.0        4\n",
       "\n",
       "[5 rows x 20 columns]"
      ]
     },
     "execution_count": 45,
     "metadata": {},
     "output_type": "execute_result"
    }
   ],
   "source": [
    "df2.head()"
   ]
  },
  {
   "cell_type": "code",
   "execution_count": null,
   "metadata": {
    "application/vnd.databricks.v1+cell": {
     "cellMetadata": {
      "byteLimit": 2048000,
      "rowLimit": 10000
     },
     "inputWidgets": {},
     "nuid": "f64a2f47-acfb-4c0b-8bc1-5a958cca5faa",
     "showTitle": false,
     "title": ""
    }
   },
   "outputs": [
    {
     "name": "stdout",
     "output_type": "stream",
     "text": [
      "VENDORID                         object\n",
      "TPEP_PICKUP_DATETIME     datetime64[ns]\n",
      "TPEP_DROPOFF_DATETIME    datetime64[ns]\n",
      "PASSENGER_COUNT                   Int64\n",
      "TRIP_DISTANCE                   float64\n",
      "RATECODEID                       object\n",
      "STORE_AND_FWD_FLAG               object\n",
      "PULOCATIONID                      Int64\n",
      "DOLOCATIONID                      Int64\n",
      "PAYMENT_TYPE                     object\n",
      "FARE_AMOUNT                     float64\n",
      "EXTRA                           float64\n",
      "MTA_TAX                         float64\n",
      "TIP_AMOUNT                      float64\n",
      "TOLLS_AMOUNT                    float64\n",
      "IMPROVEMENT_SURCHARGE           float64\n",
      "TOTAL_AMOUNT                    float64\n",
      "CONGESTION_SURCHARGE            float64\n",
      "AIRPORT_FEE                     float64\n",
      "trip_id                           int64\n",
      "dtype: object\n"
     ]
    }
   ],
   "source": [
    "print(df2.dtypes)"
   ]
  },
  {
   "cell_type": "code",
   "execution_count": null,
   "metadata": {
    "application/vnd.databricks.v1+cell": {
     "cellMetadata": {
      "byteLimit": 2048000,
      "rowLimit": 10000
     },
     "inputWidgets": {},
     "nuid": "99001d37-f587-4a4d-a8b2-b8c63549302d",
     "showTitle": false,
     "title": ""
    }
   },
   "outputs": [
    {
     "data": {
      "text/plain": [
       "3066766"
      ]
     },
     "execution_count": 47,
     "metadata": {},
     "output_type": "execute_result"
    }
   ],
   "source": [
    "# Calculate number of rows\n",
    "num_rows = df2.shape[0]\n",
    "num_rows"
   ]
  },
  {
   "cell_type": "code",
   "execution_count": null,
   "metadata": {
    "application/vnd.databricks.v1+cell": {
     "cellMetadata": {
      "byteLimit": 2048000,
      "rowLimit": 10000
     },
     "inputWidgets": {},
     "nuid": "80d7f0c3-134a-436b-b591-daf902861e0c",
     "showTitle": false,
     "title": ""
    }
   },
   "outputs": [
    {
     "data": {
      "text/plain": [
       "VENDORID                     0\n",
       "TPEP_PICKUP_DATETIME         0\n",
       "TPEP_DROPOFF_DATETIME        0\n",
       "PASSENGER_COUNT          71743\n",
       "TRIP_DISTANCE                0\n",
       "RATECODEID               84849\n",
       "STORE_AND_FWD_FLAG       71743\n",
       "PULOCATIONID                 0\n",
       "DOLOCATIONID                 0\n",
       "PAYMENT_TYPE             71743\n",
       "FARE_AMOUNT                  0\n",
       "EXTRA                        0\n",
       "MTA_TAX                      0\n",
       "TIP_AMOUNT                   0\n",
       "TOLLS_AMOUNT                 0\n",
       "IMPROVEMENT_SURCHARGE        0\n",
       "TOTAL_AMOUNT                 0\n",
       "CONGESTION_SURCHARGE     71743\n",
       "AIRPORT_FEE              71743\n",
       "trip_id                      0\n",
       "dtype: int64"
      ]
     },
     "execution_count": 49,
     "metadata": {},
     "output_type": "execute_result"
    }
   ],
   "source": [
    "# Calculate the number of missing values for each column\n",
    "df2.isnull().sum()"
   ]
  },
  {
   "cell_type": "code",
   "execution_count": null,
   "metadata": {
    "application/vnd.databricks.v1+cell": {
     "cellMetadata": {
      "byteLimit": 2048000,
      "rowLimit": 10000
     },
     "inputWidgets": {},
     "nuid": "2a254494-84cb-4c92-b95e-107b4712a61d",
     "showTitle": false,
     "title": ""
    }
   },
   "outputs": [],
   "source": [
    "# Impute missing values for the specified columns\n",
    "df2['PASSENGER_COUNT'].fillna(df2['PASSENGER_COUNT'].mode()[0], inplace=True)\n",
    "df2['RATECODEID'].fillna(df2['RATECODEID'].mode()[0], inplace=True)\n",
    "df2['STORE_AND_FWD_FLAG'].fillna(df2['STORE_AND_FWD_FLAG'].mode()[0], inplace=True)\n",
    "df2['PAYMENT_TYPE'].fillna(df2['PAYMENT_TYPE'].mode()[0], inplace=True)\n",
    "df2['CONGESTION_SURCHARGE'].fillna(df2['CONGESTION_SURCHARGE'].mean(), inplace=True)\n",
    "df2['AIRPORT_FEE'].fillna(df2['AIRPORT_FEE'].mean(), inplace=True)"
   ]
  },
  {
   "cell_type": "code",
   "execution_count": null,
   "metadata": {
    "application/vnd.databricks.v1+cell": {
     "cellMetadata": {
      "byteLimit": 2048000,
      "rowLimit": 10000
     },
     "inputWidgets": {},
     "nuid": "c2594863-addf-4835-ad92-b9f2bfdf758a",
     "showTitle": false,
     "title": ""
    }
   },
   "outputs": [
    {
     "data": {
      "text/plain": [
       "VENDORID                 0\n",
       "TPEP_PICKUP_DATETIME     0\n",
       "TPEP_DROPOFF_DATETIME    0\n",
       "PASSENGER_COUNT          0\n",
       "TRIP_DISTANCE            0\n",
       "RATECODEID               0\n",
       "STORE_AND_FWD_FLAG       0\n",
       "PULOCATIONID             0\n",
       "DOLOCATIONID             0\n",
       "PAYMENT_TYPE             0\n",
       "FARE_AMOUNT              0\n",
       "EXTRA                    0\n",
       "MTA_TAX                  0\n",
       "TIP_AMOUNT               0\n",
       "TOLLS_AMOUNT             0\n",
       "IMPROVEMENT_SURCHARGE    0\n",
       "TOTAL_AMOUNT             0\n",
       "CONGESTION_SURCHARGE     0\n",
       "AIRPORT_FEE              0\n",
       "trip_id                  0\n",
       "dtype: int64"
      ]
     },
     "execution_count": 51,
     "metadata": {},
     "output_type": "execute_result"
    }
   ],
   "source": [
    "df2.isnull().sum()"
   ]
  },
  {
   "cell_type": "code",
   "execution_count": null,
   "metadata": {
    "application/vnd.databricks.v1+cell": {
     "cellMetadata": {
      "byteLimit": 2048000,
      "rowLimit": 10000
     },
     "inputWidgets": {},
     "nuid": "dc83096c-00c9-49aa-b3a6-aa555a20ef83",
     "showTitle": false,
     "title": ""
    }
   },
   "outputs": [],
   "source": [
    "# Extract hour, day name, month, year, and weekday information from pickup datetime\n",
    "df2['PICK_HOUR'] = df2['TPEP_PICKUP_DATETIME'].dt.hour\n",
    "df2['PICK_DAY'] = df2['TPEP_PICKUP_DATETIME'].dt.day_name()\n",
    "df2['PICK_MONTH'] = df2['TPEP_PICKUP_DATETIME'].dt.month\n",
    "df2['PICK_YEAR'] = df2['TPEP_PICKUP_DATETIME'].dt.year\n",
    "df2['PICK_WEEKDAY'] = df2['TPEP_PICKUP_DATETIME'].dt.weekday\n",
    "\n",
    "# Extract hour, day name, month, year, and weekday information from dropoff datetime\n",
    "df2['DROP_HOUR'] = df2['TPEP_DROPOFF_DATETIME'].dt.hour\n",
    "df2['DROP_DAY'] = df2['TPEP_DROPOFF_DATETIME'].dt.day_name()\n",
    "df2['DROP_MONTH'] = df2['TPEP_DROPOFF_DATETIME'].dt.month\n",
    "df2['DROP_YEAR'] = df2['TPEP_DROPOFF_DATETIME'].dt.year\n",
    "df2['DROP_WEEKDAY'] = df2['TPEP_DROPOFF_DATETIME'].dt.weekday"
   ]
  },
  {
   "cell_type": "code",
   "execution_count": null,
   "metadata": {
    "application/vnd.databricks.v1+cell": {
     "cellMetadata": {
      "byteLimit": 2048000,
      "rowLimit": 10000
     },
     "inputWidgets": {},
     "nuid": "6dfa0339-3c84-4d44-9c1a-416fa44f263d",
     "showTitle": false,
     "title": ""
    }
   },
   "outputs": [
    {
     "data": {
      "text/html": [
       "<div>\n",
       "<style scoped>\n",
       "    .dataframe tbody tr th:only-of-type {\n",
       "        vertical-align: middle;\n",
       "    }\n",
       "\n",
       "    .dataframe tbody tr th {\n",
       "        vertical-align: top;\n",
       "    }\n",
       "\n",
       "    .dataframe thead th {\n",
       "        text-align: right;\n",
       "    }\n",
       "</style>\n",
       "<table border=\"1\" class=\"dataframe\">\n",
       "  <thead>\n",
       "    <tr style=\"text-align: right;\">\n",
       "      <th></th>\n",
       "      <th>VENDORID</th>\n",
       "      <th>TPEP_PICKUP_DATETIME</th>\n",
       "      <th>TPEP_DROPOFF_DATETIME</th>\n",
       "      <th>PASSENGER_COUNT</th>\n",
       "      <th>TRIP_DISTANCE</th>\n",
       "      <th>RATECODEID</th>\n",
       "      <th>STORE_AND_FWD_FLAG</th>\n",
       "      <th>PULOCATIONID</th>\n",
       "      <th>DOLOCATIONID</th>\n",
       "      <th>PAYMENT_TYPE</th>\n",
       "      <th>FARE_AMOUNT</th>\n",
       "      <th>EXTRA</th>\n",
       "      <th>MTA_TAX</th>\n",
       "      <th>TIP_AMOUNT</th>\n",
       "      <th>TOLLS_AMOUNT</th>\n",
       "      <th>IMPROVEMENT_SURCHARGE</th>\n",
       "      <th>TOTAL_AMOUNT</th>\n",
       "      <th>CONGESTION_SURCHARGE</th>\n",
       "      <th>AIRPORT_FEE</th>\n",
       "      <th>trip_id</th>\n",
       "      <th>PICK_HOUR</th>\n",
       "      <th>PICK_DAY</th>\n",
       "      <th>PICK_MONTH</th>\n",
       "      <th>PICK_YEAR</th>\n",
       "      <th>PICK_WEEKDAY</th>\n",
       "      <th>DROP_HOUR</th>\n",
       "      <th>DROP_DAY</th>\n",
       "      <th>DROP_MONTH</th>\n",
       "      <th>DROP_YEAR</th>\n",
       "      <th>DROP_WEEKDAY</th>\n",
       "    </tr>\n",
       "  </thead>\n",
       "  <tbody>\n",
       "    <tr>\n",
       "      <th>0</th>\n",
       "      <td>VeriFone Inc.</td>\n",
       "      <td>2023-01-28 18:57:33</td>\n",
       "      <td>2023-01-28 19:11:57</td>\n",
       "      <td>2</td>\n",
       "      <td>2.11</td>\n",
       "      <td>Standard rate</td>\n",
       "      <td>not a store and forward trip</td>\n",
       "      <td>140</td>\n",
       "      <td>170</td>\n",
       "      <td>Credit card</td>\n",
       "      <td>16.0</td>\n",
       "      <td>0.0</td>\n",
       "      <td>1.0</td>\n",
       "      <td>1.0</td>\n",
       "      <td>0.0</td>\n",
       "      <td>1.0</td>\n",
       "      <td>21.0</td>\n",
       "      <td>3.0</td>\n",
       "      <td>0.0</td>\n",
       "      <td>0</td>\n",
       "      <td>18</td>\n",
       "      <td>Saturday</td>\n",
       "      <td>1</td>\n",
       "      <td>2023</td>\n",
       "      <td>5</td>\n",
       "      <td>19</td>\n",
       "      <td>Saturday</td>\n",
       "      <td>1</td>\n",
       "      <td>2023</td>\n",
       "      <td>5</td>\n",
       "    </tr>\n",
       "    <tr>\n",
       "      <th>1</th>\n",
       "      <td>VeriFone Inc.</td>\n",
       "      <td>2023-01-28 18:15:14</td>\n",
       "      <td>2023-01-28 18:19:37</td>\n",
       "      <td>1</td>\n",
       "      <td>0.94</td>\n",
       "      <td>Standard rate</td>\n",
       "      <td>not a store and forward trip</td>\n",
       "      <td>137</td>\n",
       "      <td>107</td>\n",
       "      <td>Credit card</td>\n",
       "      <td>7.0</td>\n",
       "      <td>0.0</td>\n",
       "      <td>1.0</td>\n",
       "      <td>2.0</td>\n",
       "      <td>0.0</td>\n",
       "      <td>1.0</td>\n",
       "      <td>13.0</td>\n",
       "      <td>3.0</td>\n",
       "      <td>0.0</td>\n",
       "      <td>1</td>\n",
       "      <td>18</td>\n",
       "      <td>Saturday</td>\n",
       "      <td>1</td>\n",
       "      <td>2023</td>\n",
       "      <td>5</td>\n",
       "      <td>18</td>\n",
       "      <td>Saturday</td>\n",
       "      <td>1</td>\n",
       "      <td>2023</td>\n",
       "      <td>5</td>\n",
       "    </tr>\n",
       "    <tr>\n",
       "      <th>2</th>\n",
       "      <td>VeriFone Inc.</td>\n",
       "      <td>2023-01-28 18:28:00</td>\n",
       "      <td>2023-01-28 18:34:59</td>\n",
       "      <td>2</td>\n",
       "      <td>1.12</td>\n",
       "      <td>Standard rate</td>\n",
       "      <td>not a store and forward trip</td>\n",
       "      <td>79</td>\n",
       "      <td>170</td>\n",
       "      <td>Credit card</td>\n",
       "      <td>9.0</td>\n",
       "      <td>0.0</td>\n",
       "      <td>1.0</td>\n",
       "      <td>0.0</td>\n",
       "      <td>0.0</td>\n",
       "      <td>1.0</td>\n",
       "      <td>13.0</td>\n",
       "      <td>3.0</td>\n",
       "      <td>0.0</td>\n",
       "      <td>2</td>\n",
       "      <td>18</td>\n",
       "      <td>Saturday</td>\n",
       "      <td>1</td>\n",
       "      <td>2023</td>\n",
       "      <td>5</td>\n",
       "      <td>18</td>\n",
       "      <td>Saturday</td>\n",
       "      <td>1</td>\n",
       "      <td>2023</td>\n",
       "      <td>5</td>\n",
       "    </tr>\n",
       "    <tr>\n",
       "      <th>3</th>\n",
       "      <td>VeriFone Inc.</td>\n",
       "      <td>2023-01-28 18:42:22</td>\n",
       "      <td>2023-01-28 19:08:50</td>\n",
       "      <td>1</td>\n",
       "      <td>5.11</td>\n",
       "      <td>Standard rate</td>\n",
       "      <td>not a store and forward trip</td>\n",
       "      <td>162</td>\n",
       "      <td>166</td>\n",
       "      <td>Credit card</td>\n",
       "      <td>29.0</td>\n",
       "      <td>0.0</td>\n",
       "      <td>1.0</td>\n",
       "      <td>7.0</td>\n",
       "      <td>0.0</td>\n",
       "      <td>1.0</td>\n",
       "      <td>39.0</td>\n",
       "      <td>3.0</td>\n",
       "      <td>0.0</td>\n",
       "      <td>3</td>\n",
       "      <td>18</td>\n",
       "      <td>Saturday</td>\n",
       "      <td>1</td>\n",
       "      <td>2023</td>\n",
       "      <td>5</td>\n",
       "      <td>19</td>\n",
       "      <td>Saturday</td>\n",
       "      <td>1</td>\n",
       "      <td>2023</td>\n",
       "      <td>5</td>\n",
       "    </tr>\n",
       "    <tr>\n",
       "      <th>4</th>\n",
       "      <td>VeriFone Inc.</td>\n",
       "      <td>2023-01-28 18:08:43</td>\n",
       "      <td>2023-01-28 18:18:21</td>\n",
       "      <td>1</td>\n",
       "      <td>1.34</td>\n",
       "      <td>Standard rate</td>\n",
       "      <td>not a store and forward trip</td>\n",
       "      <td>237</td>\n",
       "      <td>140</td>\n",
       "      <td>Cash</td>\n",
       "      <td>11.0</td>\n",
       "      <td>0.0</td>\n",
       "      <td>1.0</td>\n",
       "      <td>0.0</td>\n",
       "      <td>0.0</td>\n",
       "      <td>1.0</td>\n",
       "      <td>15.0</td>\n",
       "      <td>3.0</td>\n",
       "      <td>0.0</td>\n",
       "      <td>4</td>\n",
       "      <td>18</td>\n",
       "      <td>Saturday</td>\n",
       "      <td>1</td>\n",
       "      <td>2023</td>\n",
       "      <td>5</td>\n",
       "      <td>18</td>\n",
       "      <td>Saturday</td>\n",
       "      <td>1</td>\n",
       "      <td>2023</td>\n",
       "      <td>5</td>\n",
       "    </tr>\n",
       "  </tbody>\n",
       "</table>\n",
       "</div>"
      ],
      "text/plain": [
       "        VENDORID TPEP_PICKUP_DATETIME  ... DROP_YEAR  DROP_WEEKDAY\n",
       "0  VeriFone Inc.  2023-01-28 18:57:33  ...      2023             5\n",
       "1  VeriFone Inc.  2023-01-28 18:15:14  ...      2023             5\n",
       "2  VeriFone Inc.  2023-01-28 18:28:00  ...      2023             5\n",
       "3  VeriFone Inc.  2023-01-28 18:42:22  ...      2023             5\n",
       "4  VeriFone Inc.  2023-01-28 18:08:43  ...      2023             5\n",
       "\n",
       "[5 rows x 30 columns]"
      ]
     },
     "execution_count": 54,
     "metadata": {},
     "output_type": "execute_result"
    }
   ],
   "source": [
    "df2.head()"
   ]
  },
  {
   "cell_type": "code",
   "execution_count": null,
   "metadata": {
    "application/vnd.databricks.v1+cell": {
     "cellMetadata": {
      "byteLimit": 2048000,
      "rowLimit": 10000
     },
     "inputWidgets": {},
     "nuid": "43865fc1-7a17-46fb-b632-0b5f97de9242",
     "showTitle": false,
     "title": ""
    }
   },
   "outputs": [
    {
     "data": {
      "image/png": "[encoded data removed]",
      "text/plain": [
       "<Figure size 1000x600 with 1 Axes>"
      ]
     },
     "metadata": {},
     "output_type": "display_data"
    },
    {
     "data": {
      "image/png": "[encoded data removed]",
      "text/plain": [
       "<Figure size 1000x600 with 1 Axes>"
      ]
     },
     "metadata": {},
     "output_type": "display_data"
    },
    {
     "data": {
      "image/png": "[encoded data removed]",
      "text/plain": [
       "<Figure size 1000x600 with 1 Axes>"
      ]
     },
     "metadata": {},
     "output_type": "display_data"
    },
    {
     "data": {
      "image/png": "[encoded data removed]",
      "text/plain": [
       "<Figure size 1000x600 with 1 Axes>"
      ]
     },
     "metadata": {},
     "output_type": "display_data"
    }
   ],
   "source": [
    "# Perform EDA\n",
    "\n",
    "# 1. Descriptive Statistics\n",
    "# Calculate summary statistics for numerical variables\n",
    "summary_stats = df2.describe()\n",
    "\n",
    "# 2. Distribution of Fare Amount\n",
    "# Plot a histogram of Fare Amount\n",
    "import matplotlib.pyplot as plt\n",
    "\n",
    "plt.figure(figsize=(10, 6))\n",
    "df2['FARE_AMOUNT'].plot(kind='hist', bins=30)\n",
    "plt.xlabel('Fare Amount')\n",
    "plt.ylabel('Frequency')\n",
    "plt.title('Distribution of Fare Amount')\n",
    "plt.show()\n",
    "\n",
    "# 3. Relationship between Fare Amount and Trip Distance\n",
    "# Plot a scatter plot of Fare Amount against Trip Distance\n",
    "plt.figure(figsize=(10, 6))\n",
    "plt.scatter(df2['TRIP_DISTANCE'], df2['FARE_AMOUNT'])\n",
    "plt.xlabel('Trip Distance')\n",
    "plt.ylabel('Fare Amount')\n",
    "plt.title('Relationship between Fare Amount and Trip Distance')\n",
    "plt.show()\n",
    "\n",
    "# 4. Fare Amount by Payment Type\n",
    "# Calculate the average Fare Amount for each Payment Type\n",
    "fare_by_payment_type = df2.groupby('PAYMENT_TYPE')['FARE_AMOUNT'].mean()\n",
    "fare_by_payment_type.plot(kind='bar', figsize=(10, 6))\n",
    "plt.xlabel('Payment Type')\n",
    "plt.ylabel('Average Fare Amount')\n",
    "plt.title('Average Fare Amount by Payment Type')\n",
    "plt.show()\n",
    "\n",
    "# 5. Fare Amount by Pick Hour\n",
    "# Calculate the average Fare Amount for each Pick Hour\n",
    "fare_by_pick_hour = df2.groupby('PICK_HOUR')['FARE_AMOUNT'].mean()\n",
    "fare_by_pick_hour.plot(kind='line', figsize=(10, 6))\n",
    "plt.xlabel('Pick Hour')\n",
    "plt.ylabel('Average Fare Amount')\n",
    "plt.title('Average Fare Amount by Pick Hour')\n",
    "plt.show()\n",
    "\n",
    "# Insights for Business User\n",
    "\n",
    "# 1. Average Fare Amount is $13.96\n",
    "# The descriptive statistics show that the average fare amount is $13.96, which can be used as a baseline for pricing or for estimating revenue.\n",
    "\n",
    "# 2. Fare amount is mostly between $0 and $50\n",
    "# The histogram of fare amount shows that the majority of fare amounts fall between $0 and $50, with a peak between $10 and $20.\n",
    "\n",
    "# 3. Positive relationship between fare amount and trip distance\n",
    "# The scatter plot of fare amount against trip distance indicates a positive relationship, suggesting that longer trips tend to have higher fares.\n",
    "\n",
    "# 4. Credit card and cash payments have similar average fare amounts\n",
    "# The bar chart of average fare amount by payment type shows that credit card and cash payments have similar average fare amounts, which suggests that the payment method does not significantly impact the fare amount.\n",
    "\n",
    "# 5. Fare amounts are highest during evening rush hours\n",
    "# The line chart of average fare amount by pick hour reveals that fare amounts are highest during evening rush hours (around 5pm), indicating potential higher demand and pricing opportunities during this time."
   ]
  },
  {
   "cell_type": "code",
   "execution_count": null,
   "metadata": {
    "application/vnd.databricks.v1+cell": {
     "cellMetadata": {
      "byteLimit": 2048000,
      "rowLimit": 10000
     },
     "inputWidgets": {},
     "nuid": "55d9e705-213e-4ce6-93ff-338975cb4867",
     "showTitle": false,
     "title": ""
    }
   },
   "outputs": [
    {
     "data": {
      "image/png": "[encoded data removed]",
      "text/plain": [
       "<Figure size 1000x600 with 1 Axes>"
      ]
     },
     "metadata": {},
     "output_type": "display_data"
    }
   ],
   "source": [
    "# 6. Fare Amount by Day of the Week\n",
    "# Calculate the average Fare Amount for each Day of the Week\n",
    "fare_by_day_of_week = df2.groupby('PICK_DAY')['FARE_AMOUNT'].mean()\n",
    "fare_by_day_of_week.sort_values(ascending=False).plot(kind='bar', figsize=(10, 6))\n",
    "plt.xlabel('Day of the Week')\n",
    "plt.ylabel('Average Fare Amount')\n",
    "plt.title('Average Fare Amount by Day of the Week')\n",
    "plt.show()\n",
    "\n",
    "# Insight for Business User:\n",
    "# 6.1 Weekend trips have higher average fare amounts\n",
    "# The bar chart of average fare amount by day of the week shows that weekend trips (Saturday and Sunday) have higher average fare amounts compared to weekdays. This indicates potential pricing opportunities and higher demand on weekends."
   ]
  },
  {
   "cell_type": "code",
   "execution_count": null,
   "metadata": {
    "application/vnd.databricks.v1+cell": {
     "cellMetadata": {
      "byteLimit": 2048000,
      "rowLimit": 10000
     },
     "inputWidgets": {},
     "nuid": "cc7a38ee-5f59-42b9-b1de-ae5bc431d34f",
     "showTitle": false,
     "title": ""
    }
   },
   "outputs": [
    {
     "data": {
      "text/plain": [
       "VENDORID\n",
       "Creative Mobile Technologies, LLC     998144\n",
       "VeriFone Inc.                        3154414\n",
       "Name: PASSENGER_COUNT, dtype: Int64"
      ]
     },
     "execution_count": 57,
     "metadata": {},
     "output_type": "execute_result"
    }
   ],
   "source": [
    "# Calculate the total number of passengers for each vendor ID\n",
    "passenger_by_vendor = df2.groupby('VENDORID')['PASSENGER_COUNT'].sum()\n",
    "passenger_by_vendor"
   ]
  },
  {
   "cell_type": "code",
   "execution_count": null,
   "metadata": {
    "application/vnd.databricks.v1+cell": {
     "cellMetadata": {
      "byteLimit": 2048000,
      "rowLimit": 10000
     },
     "inputWidgets": {},
     "nuid": "a91924d4-1ad4-402d-a17b-860a4328a1cc",
     "showTitle": false,
     "title": ""
    }
   },
   "outputs": [
    {
     "data": {
      "image/png": "[encoded data removed]",
      "text/plain": [
       "<Figure size 1000x600 with 1 Axes>"
      ]
     },
     "metadata": {},
     "output_type": "display_data"
    }
   ],
   "source": [
    "# Calculate the total number of passengers for each vendor ID\n",
    "import matplotlib.pyplot as plt\n",
    "\n",
    "passenger_by_vendor = df2.groupby('VENDORID')['PASSENGER_COUNT'].sum()\n",
    "passenger_by_vendor.plot(kind='bar', figsize=(10, 6))\n",
    "plt.xlabel('Vendor ID')\n",
    "plt.ylabel('Total Number of Passengers')\n",
    "plt.title('Total Number of Passengers by Vendor ID')\n",
    "plt.show()"
   ]
  },
  {
   "cell_type": "code",
   "execution_count": null,
   "metadata": {
    "application/vnd.databricks.v1+cell": {
     "cellMetadata": {
      "byteLimit": 2048000,
      "rowLimit": 10000
     },
     "inputWidgets": {},
     "nuid": "9fda2edc-87de-4ece-86e5-26f9d8b7ecca",
     "showTitle": false,
     "title": ""
    }
   },
   "outputs": [
    {
     "data": {
      "text/plain": [
       "VENDORID\n",
       "Creative Mobile Technologies, LLC    3.116383\n",
       "VeriFone Inc.                        4.117402\n",
       "Name: TRIP_DISTANCE, dtype: float64"
      ]
     },
     "execution_count": 59,
     "metadata": {},
     "output_type": "execute_result"
    }
   ],
   "source": [
    "# Calculate the average distance travelled for each VENDORID\n",
    "average_distance_by_vendor = df2.groupby('VENDORID')['TRIP_DISTANCE'].mean()\n",
    "average_distance_by_vendor"
   ]
  },
  {
   "cell_type": "code",
   "execution_count": null,
   "metadata": {
    "application/vnd.databricks.v1+cell": {
     "cellMetadata": {
      "byteLimit": 2048000,
      "rowLimit": 10000
     },
     "inputWidgets": {},
     "nuid": "a573789f-7305-442f-84d6-97ff4a374f50",
     "showTitle": false,
     "title": ""
    }
   },
   "outputs": [
    {
     "data": {
      "image/png": "[encoded data removed]",
      "text/plain": [
       "<Figure size 1000x600 with 1 Axes>"
      ]
     },
     "metadata": {},
     "output_type": "display_data"
    }
   ],
   "source": [
    "# Calculate the average distance travelled for each VENDORID\n",
    "average_distance_by_vendor = df2.groupby('VENDORID')['TRIP_DISTANCE'].mean()\n",
    "average_distance_by_vendor.plot(kind='bar', figsize=(10, 6))\n",
    "plt.xlabel('Vendor ID')\n",
    "plt.ylabel('Average Distance Travelled')\n",
    "plt.title('Average Distance Travelled by Vendor ID')\n",
    "plt.show()"
   ]
  },
  {
   "cell_type": "code",
   "execution_count": null,
   "metadata": {
    "application/vnd.databricks.v1+cell": {
     "cellMetadata": {
      "byteLimit": 2048000,
      "rowLimit": 10000
     },
     "inputWidgets": {},
     "nuid": "93611dd1-0fab-49d6-b098-00f62e29ce06",
     "showTitle": false,
     "title": ""
    }
   },
   "outputs": [],
   "source": [
    "# Create a Spark DataFrame from df2\n",
    "df2_spark = spark.createDataFrame(df2)"
   ]
  },
  {
   "cell_type": "code",
   "execution_count": null,
   "metadata": {
    "application/vnd.databricks.v1+cell": {
     "cellMetadata": {
      "byteLimit": 2048000,
      "rowLimit": 10000
     },
     "inputWidgets": {},
     "nuid": "7e4d083f-5328-4983-b430-0d116290dd12",
     "showTitle": false,
     "title": ""
    }
   },
   "outputs": [
    {
     "name": "stdout",
     "output_type": "stream",
     "text": [
      "+--------------------+--------------------+---------------------+---------------+-------------+-------------+--------------------+------------+------------+------------+-----------+-----+-------+----------+------------+---------------------+------------+--------------------+-----------+-------+---------+--------+----------+---------+------------+---------+--------+----------+---------+------------+\n",
      "|            VENDORID|TPEP_PICKUP_DATETIME|TPEP_DROPOFF_DATETIME|PASSENGER_COUNT|TRIP_DISTANCE|   RATECODEID|  STORE_AND_FWD_FLAG|PULOCATIONID|DOLOCATIONID|PAYMENT_TYPE|FARE_AMOUNT|EXTRA|MTA_TAX|TIP_AMOUNT|TOLLS_AMOUNT|IMPROVEMENT_SURCHARGE|TOTAL_AMOUNT|CONGESTION_SURCHARGE|AIRPORT_FEE|trip_id|PICK_HOUR|PICK_DAY|PICK_MONTH|PICK_YEAR|PICK_WEEKDAY|DROP_HOUR|DROP_DAY|DROP_MONTH|DROP_YEAR|DROP_WEEKDAY|\n",
      "+--------------------+--------------------+---------------------+---------------+-------------+-------------+--------------------+------------+------------+------------+-----------+-----+-------+----------+------------+---------------------+------------+--------------------+-----------+-------+---------+--------+----------+---------+------------+---------+--------+----------+---------+------------+\n",
      "|       VeriFone Inc.| 2023-01-28 18:57:33|  2023-01-28 19:11:57|              2|         2.11|Standard rate|not a store and f...|         140|         170| Credit card|       16.0|  0.0|    1.0|       1.0|         0.0|                  1.0|        21.0|                 3.0|        0.0|      0|       18|Saturday|         1|     2023|           5|       19|Saturday|         1|     2023|           5|\n",
      "|       VeriFone Inc.| 2023-01-28 18:15:14|  2023-01-28 18:19:37|              1|         0.94|Standard rate|not a store and f...|         137|         107| Credit card|        7.0|  0.0|    1.0|       2.0|         0.0|                  1.0|        13.0|                 3.0|        0.0|      1|       18|Saturday|         1|     2023|           5|       18|Saturday|         1|     2023|           5|\n",
      "|       VeriFone Inc.| 2023-01-28 18:28:00|  2023-01-28 18:34:59|              2|         1.12|Standard rate|not a store and f...|          79|         170| Credit card|        9.0|  0.0|    1.0|       0.0|         0.0|                  1.0|        13.0|                 3.0|        0.0|      2|       18|Saturday|         1|     2023|           5|       18|Saturday|         1|     2023|           5|\n",
      "|       VeriFone Inc.| 2023-01-28 18:42:22|  2023-01-28 19:08:50|              1|         5.11|Standard rate|not a store and f...|         162|         166| Credit card|       29.0|  0.0|    1.0|       7.0|         0.0|                  1.0|        39.0|                 3.0|        0.0|      3|       18|Saturday|         1|     2023|           5|       19|Saturday|         1|     2023|           5|\n",
      "|       VeriFone Inc.| 2023-01-28 18:08:43|  2023-01-28 18:18:21|              1|         1.34|Standard rate|not a store and f...|         237|         140|        Cash|       11.0|  0.0|    1.0|       0.0|         0.0|                  1.0|        15.0|                 3.0|        0.0|      4|       18|Saturday|         1|     2023|           5|       18|Saturday|         1|     2023|           5|\n",
      "|       VeriFone Inc.| 2023-01-28 18:25:03|  2023-01-28 18:30:50|              1|          0.5|Standard rate|not a store and f...|         141|         237| Credit card|        7.0|  0.0|    1.0|       2.0|         0.0|                  1.0|        13.0|                 3.0|        0.0|      5|       18|Saturday|         1|     2023|           5|       18|Saturday|         1|     2023|           5|\n",
      "|       VeriFone Inc.| 2023-01-28 18:37:55|  2023-01-28 18:49:41|              1|         2.16|Standard rate|not a store and f...|         162|         262| Credit card|       14.0|  0.0|    1.0|       2.0|         0.0|                  1.0|        20.0|                 3.0|        0.0|      6|       18|Saturday|         1|     2023|           5|       18|Saturday|         1|     2023|           5|\n",
      "|       VeriFone Inc.| 2023-01-28 18:07:31|  2023-01-28 18:17:12|              2|         1.35|Standard rate|not a store and f...|          48|          48|        Cash|       11.0|  0.0|    1.0|       0.0|         0.0|                  1.0|        15.0|                 3.0|        0.0|      7|       18|Saturday|         1|     2023|           5|       18|Saturday|         1|     2023|           5|\n",
      "|       VeriFone Inc.| 2023-01-28 18:19:38|  2023-01-28 18:24:23|              2|          0.8|Standard rate|not a store and f...|         163|         162| Credit card|        7.0|  0.0|    1.0|       3.0|         0.0|                  1.0|        14.0|                 3.0|        0.0|      8|       18|Saturday|         1|     2023|           5|       18|Saturday|         1|     2023|           5|\n",
      "|       VeriFone Inc.| 2023-01-28 18:30:14|  2023-01-28 18:34:19|              2|         0.87|Standard rate|not a store and f...|         141|         263|        Cash|        7.0|  0.0|    1.0|       0.0|         0.0|                  1.0|        11.0|                 3.0|        0.0|      9|       18|Saturday|         1|     2023|           5|       18|Saturday|         1|     2023|           5|\n",
      "|       VeriFone Inc.| 2023-01-28 18:38:09|  2023-01-28 18:41:36|              2|         0.71|Standard rate|not a store and f...|         141|         141| Credit card|        6.0|  0.0|    1.0|       2.0|         0.0|                  1.0|        12.0|                 3.0|        0.0|     10|       18|Saturday|         1|     2023|           5|       18|Saturday|         1|     2023|           5|\n",
      "|       VeriFone Inc.| 2023-01-28 18:47:26|  2023-01-28 19:06:59|              2|         2.41|Standard rate|not a store and f...|         233|          68| Credit card|       18.0|  0.0|    1.0|       4.0|         0.0|                  1.0|        27.0|                 3.0|        0.0|     11|       18|Saturday|         1|     2023|           5|       19|Saturday|         1|     2023|           5|\n",
      "|Creative Mobile T...| 2023-01-28 18:55:16|  2023-01-28 19:08:52|              1|          1.1|Standard rate|not a store and f...|         161|          48| Credit card|       13.0|  3.0|    1.0|       3.0|         0.0|                  1.0|        20.0|                 3.0|        0.0|     12|       18|Saturday|         1|     2023|           5|       19|Saturday|         1|     2023|           5|\n",
      "|Creative Mobile T...| 2023-01-28 18:11:32|  2023-01-28 18:32:10|              1|          3.3|Standard rate|not a store and f...|         100|         140|        Cash|       18.0|  3.0|    1.0|       0.0|         0.0|                  1.0|        22.0|                 3.0|        0.0|     13|       18|Saturday|         1|     2023|           5|       18|Saturday|         1|     2023|           5|\n",
      "|Creative Mobile T...| 2023-01-28 18:26:25|  2023-01-28 18:42:41|              1|          1.1|Standard rate|not a store and f...|         233|          48|   No charge|       14.0|  3.0|    1.0|       0.0|         0.0|                  1.0|        18.0|                 3.0|        0.0|     14|       18|Saturday|         1|     2023|           5|       18|Saturday|         1|     2023|           5|\n",
      "|Creative Mobile T...| 2023-01-28 18:54:47|  2023-01-28 19:48:22|              1|         10.9|Standard rate|not a store and f...|         186|          67|   No charge|       53.0|  3.0|    1.0|       0.0|         7.0|                  1.0|        64.0|                 3.0|        0.0|     15|       18|Saturday|         1|     2023|           5|       19|Saturday|         1|     2023|           5|\n",
      "|       VeriFone Inc.| 2023-01-28 18:13:43|  2023-01-28 18:22:54|              1|         0.52|Standard rate|not a store and f...|         230|         100|        Cash|        9.0|  0.0|    1.0|       0.0|         0.0|                  1.0|        13.0|                 3.0|        0.0|     16|       18|Saturday|         1|     2023|           5|       18|Saturday|         1|     2023|           5|\n",
      "|       VeriFone Inc.| 2023-01-28 18:46:48|  2023-01-28 18:52:51|              1|         0.57|Standard rate|not a store and f...|         230|         163|        Cash|        7.0|  0.0|    1.0|       0.0|         0.0|                  1.0|        11.0|                 3.0|        0.0|     17|       18|Saturday|         1|     2023|           5|       18|Saturday|         1|     2023|           5|\n",
      "|       VeriFone Inc.| 2023-01-28 18:58:20|  2023-01-28 19:09:23|              1|         1.32|Standard rate|not a store and f...|         230|         233| Credit card|       11.0|  0.0|    1.0|       3.0|         0.0|                  1.0|        18.0|                 3.0|        0.0|     18|       18|Saturday|         1|     2023|           5|       19|Saturday|         1|     2023|           5|\n",
      "|       VeriFone Inc.| 2023-01-28 18:06:35|  2023-01-28 18:22:20|              2|         2.47|Standard rate|not a store and f...|         234|         237| Credit card|       16.0|  0.0|    1.0|       6.0|         0.0|                  1.0|        26.0|                 3.0|        0.0|     19|       18|Saturday|         1|     2023|           5|       18|Saturday|         1|     2023|           5|\n",
      "+--------------------+--------------------+---------------------+---------------+-------------+-------------+--------------------+------------+------------+------------+-----------+-----+-------+----------+------------+---------------------+------------+--------------------+-----------+-------+---------+--------+----------+---------+------------+---------+--------+----------+---------+------------+\n",
      "only showing top 20 rows\n",
      "\n"
     ]
    }
   ],
   "source": [
    "df2_spark.show()"
   ]
  },
  {
   "cell_type": "code",
   "execution_count": null,
   "metadata": {
    "application/vnd.databricks.v1+cell": {
     "cellMetadata": {
      "byteLimit": 2048000,
      "rowLimit": 10000
     },
     "inputWidgets": {},
     "nuid": "c79fb289-f8fd-421f-afa7-53fe3238f387",
     "showTitle": false,
     "title": ""
    }
   },
   "outputs": [],
   "source": [
    "# Write df2_spark dataframe to the specified location as CSV files, overwriting existing files\n",
    "df2_spark.write.mode(\"overwrite\").option(\"header\",'true').csv(\"/mnt/yellowtaxi/transformed-data\")"
   ]
  }
 ],
 "metadata": {
  "application/vnd.databricks.v1+notebook": {
   "dashboards": [],
   "language": "python",
   "notebookMetadata": {
    "mostRecentlyExecutedCommandWithImplicitDF": {
     "commandId": 694420698679256,
     "dataframes": [
      "_sqldf"
     ]
    },
    "pythonIndentUnit": 4
   },
   "notebookName": "Yellow Taxi Data Transformation",
   "widgets": {}
  },
  "language_info": {
   "name": "python"
  }
 },
 "nbformat": 4,
 "nbformat_minor": 0
}
